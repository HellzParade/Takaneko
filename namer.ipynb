{
 "cells": [
  {
   "cell_type": "code",
   "execution_count": 1,
   "metadata": {},
   "outputs": [],
   "source": [
    "import os"
   ]
  },
  {
   "cell_type": "code",
   "execution_count": 2,
   "metadata": {},
   "outputs": [],
   "source": [
    "folder_location = \"./takaneko_dataset/takaneko_cropped_audio ( 1 )/1\"  #to be changed\n",
    "folders = os.listdir(folder_location)\n",
    "# location = \"./takaneko_dataset/takaneko_cropped_audio ( 1 )/2/erisa\"\n",
    "# files = os.listdir(location)  #list of names of files\n",
    "# num_files = len(files)    #number of files\n",
    "num_folders = len(folders)"
   ]
  },
  {
   "cell_type": "code",
   "execution_count": 5,
   "metadata": {},
   "outputs": [],
   "source": [
    "for j in range(num_folders):\n",
    "    location = os.path.join(folder_location,folders[j])\n",
    "    files = os.listdir(location)\n",
    "    num_files = len(files)\n",
    "    for i in range (num_files):\n",
    "        old_file = os.path.join(location,files[i])\n",
    "        new_name = \"{x}_1_{a}.wav\".format(x=folders[j],a=i+1)    #to be changed\n",
    "        new_file = os.path.join(location, new_name)\n",
    "        os.rename(old_file,new_file)"
   ]
  },
  {
   "cell_type": "code",
   "execution_count": null,
   "metadata": {},
   "outputs": [],
   "source": [
    "# for i in range (num_files):\n",
    "#     old_file = os.path.join(location,files[i])\n",
    "#     new_name = \"erisa_2_{a}\".format(a=i+1)\n",
    "#     new_file = os.path.join(location, new_name)\n",
    "#     os.rename(old_file,new_file)"
   ]
  },
  {
   "cell_type": "code",
   "execution_count": null,
   "metadata": {},
   "outputs": [],
   "source": [
    "# old_file = os.path.join(\"directory\", \"a.txt\")\n",
    "# new_file = os.path.join(\"directory\", \"b.kml\")\n",
    "# os.rename(old_file, new_file)\n"
   ]
  },
  {
   "cell_type": "markdown",
   "metadata": {},
   "source": [
    "<!-- str = \"{a}\".format(a=names[i])\n",
    "    path = os.path.join(folder_location,str) -->"
   ]
  }
 ],
 "metadata": {
  "kernelspec": {
   "display_name": "takaneko",
   "language": "python",
   "name": "python3"
  },
  "language_info": {
   "codemirror_mode": {
    "name": "ipython",
    "version": 3
   },
   "file_extension": ".py",
   "mimetype": "text/x-python",
   "name": "python",
   "nbconvert_exporter": "python",
   "pygments_lexer": "ipython3",
   "version": "3.12.2"
  }
 },
 "nbformat": 4,
 "nbformat_minor": 2
}
