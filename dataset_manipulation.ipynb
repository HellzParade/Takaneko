{
 "cells": [
  {
   "cell_type": "code",
   "execution_count": 1,
   "metadata": {},
   "outputs": [
    {
     "name": "stderr",
     "output_type": "stream",
     "text": [
      "c:\\Users\\sarth\\miniconda3\\envs\\takaneko\\Lib\\site-packages\\pydub\\utils.py:170: RuntimeWarning: Couldn't find ffmpeg or avconv - defaulting to ffmpeg, but may not work\n",
      "  warn(\"Couldn't find ffmpeg or avconv - defaulting to ffmpeg, but may not work\", RuntimeWarning)\n"
     ]
    }
   ],
   "source": [
    "from pydub import AudioSegment\n",
    "import os"
   ]
  },
  {
   "cell_type": "code",
   "execution_count": 2,
   "metadata": {},
   "outputs": [
    {
     "data": {
      "text/plain": [
       "1500.0"
      ]
     },
     "execution_count": 2,
     "metadata": {},
     "output_type": "execute_result"
    }
   ],
   "source": [
    "#Variables\n",
    "\n",
    "three_seconds = 3*1000\n",
    "one_point_five_seconds = three_seconds/2\n",
    "one_second = three_seconds/3\n",
    "path_example = \"./takaneko_dataset/takaneko_vocals_only/(NAME).wav\"\n",
    "one_point_five_seconds"
   ]
  },
  {
   "cell_type": "code",
   "execution_count": 3,
   "metadata": {},
   "outputs": [],
   "source": [
    "song_number = 1"
   ]
  },
  {
   "cell_type": "code",
   "execution_count": 4,
   "metadata": {},
   "outputs": [
    {
     "data": {
      "text/plain": [
       "24"
      ]
     },
     "execution_count": 4,
     "metadata": {},
     "output_type": "execute_result"
    }
   ],
   "source": [
    "takaneko_dataset = \"./takaneko_dataset/takaneko_vocals_only\"\n",
    "files = os.listdir(takaneko_dataset)\n",
    "num_files = len(files)\n",
    "num_files"
   ]
  },
  {
   "cell_type": "code",
   "execution_count": 5,
   "metadata": {},
   "outputs": [
    {
     "name": "stdout",
     "output_type": "stream",
     "text": [
      "206.007\n",
      "206.007\n",
      "196.371\n",
      "196.371\n",
      "235.566\n",
      "235.566\n",
      "169.924\n",
      "169.924\n",
      "214.042\n",
      "214.042\n",
      "244.042\n",
      "244.042\n",
      "243.926\n",
      "243.926\n",
      "266.82\n",
      "266.82\n",
      "264.963\n",
      "264.963\n",
      "225.652\n",
      "225.652\n",
      "250.892\n",
      "250.892\n",
      "240.721\n",
      "240.721\n",
      "217.339\n",
      "217.339\n",
      "206.007\n",
      "206.007\n",
      "269.932\n",
      "269.932\n",
      "252.494\n",
      "252.494\n",
      "260.458\n",
      "260.458\n",
      "195.373\n",
      "195.373\n",
      "248.454\n",
      "248.454\n",
      "308.686\n",
      "308.686\n",
      "165.883\n",
      "165.883\n",
      "253.098\n",
      "253.098\n",
      "196.371\n",
      "196.371\n",
      "227.579\n",
      "227.579\n"
     ]
    }
   ],
   "source": [
    "# for i in range (2):\n",
    "for i in range (num_files):\n",
    "    song = AudioSegment.from_wav(\"./takaneko_dataset/takaneko_vocals_only/{num}.wav\".format(num = song_number))\n",
    "    # str = \"{a}\".format(a=song_number)\n",
    "    # path = os.path.join(takaneko_dataset,str)\n",
    "    # os.mkdir(path)\n",
    "    song_number += 1\n",
    "    duration = len(song)/1000\n",
    "    print(duration)\n",
    "    number_of_clips = duration/1\n",
    "    print(number_of_clips)\n",
    "\n",
    "    start = 0\n",
    "    # end = three_seconds\n",
    "    end = one_second\n",
    "    numbering = 1\n",
    "    for x in range(int(number_of_clips)):\n",
    "        three_second_crop = song[start:end:]\n",
    "        # start += three_seconds\n",
    "        # end += three_seconds\n",
    "        # start += one_point_five_seconds\n",
    "        # end += one_point_five_seconds\n",
    "        start += one_second\n",
    "        end += one_second\n",
    "        three_second_crop.export(\"{a}_clip_{num}.wav\".format(a = song_number-1,num = numbering), format =\"wav\")\n",
    "        numbering += 1"
   ]
  },
  {
   "cell_type": "code",
   "execution_count": 6,
   "metadata": {},
   "outputs": [],
   "source": [
    "# duration = len(song)/1000\n",
    "# number_of_clips = duration/3"
   ]
  },
  {
   "cell_type": "code",
   "execution_count": 7,
   "metadata": {},
   "outputs": [],
   "source": [
    "# start = 0\n",
    "# end = three_seconds\n",
    "# numbering = 1\n",
    "# for x in range(int(number_of_clips)):\n",
    "# # for x in range(5):\n",
    "#     three_second_crop = song[start:end:]\n",
    "#     start += three_seconds\n",
    "#     end += three_seconds\n",
    "#     three_second_crop.export(\"cropped{num}.wav\".format(num = numbering), format =\"wav\")\n",
    "#     numbering += 1"
   ]
  }
 ],
 "metadata": {
  "kernelspec": {
   "display_name": "takaneko",
   "language": "python",
   "name": "python3"
  },
  "language_info": {
   "codemirror_mode": {
    "name": "ipython",
    "version": 3
   },
   "file_extension": ".py",
   "mimetype": "text/x-python",
   "name": "python",
   "nbconvert_exporter": "python",
   "pygments_lexer": "ipython3",
   "version": "3.12.2"
  }
 },
 "nbformat": 4,
 "nbformat_minor": 2
}
