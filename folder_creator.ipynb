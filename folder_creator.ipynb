{
 "cells": [
  {
   "cell_type": "code",
   "execution_count": 1,
   "metadata": {},
   "outputs": [],
   "source": [
    "import os"
   ]
  },
  {
   "cell_type": "code",
   "execution_count": 2,
   "metadata": {},
   "outputs": [],
   "source": [
    "folder_location = \"./folder_creator\"\n",
    "num_of_folder = 10"
   ]
  },
  {
   "cell_type": "markdown",
   "metadata": {},
   "source": [
    "names of the folder:\n",
    "nao\n",
    "momona\n",
    "mikuru\n",
    "suu\n",
    "saara\n",
    "momoko\n",
    "riri\n",
    "erisa\n",
    "himeri\n",
    "hina"
   ]
  },
  {
   "cell_type": "code",
   "execution_count": null,
   "metadata": {},
   "outputs": [],
   "source": [
    "names = [\"nao\",\"momona\",\"mikuru\",\"suu\",\"saara\",\"momoko\",\"riri\",\"erisa\",\"himeri\",\"hina\"]"
   ]
  },
  {
   "cell_type": "code",
   "execution_count": 7,
   "metadata": {},
   "outputs": [],
   "source": [
    "for i in range(num_of_folder):\n",
    "    # print(i)\n",
    "    str = \"{a}\".format(a=names[i])\n",
    "    path = os.path.join(folder_location,str)\n",
    "    os.mkdir(path)"
   ]
  }
 ],
 "metadata": {
  "kernelspec": {
   "display_name": "takaneko",
   "language": "python",
   "name": "python3"
  },
  "language_info": {
   "codemirror_mode": {
    "name": "ipython",
    "version": 3
   },
   "file_extension": ".py",
   "mimetype": "text/x-python",
   "name": "python",
   "nbconvert_exporter": "python",
   "pygments_lexer": "ipython3",
   "version": "3.12.2"
  }
 },
 "nbformat": 4,
 "nbformat_minor": 2
}
